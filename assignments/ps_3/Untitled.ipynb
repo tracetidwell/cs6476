{
 "cells": [
  {
   "cell_type": "code",
   "execution_count": 1,
   "metadata": {},
   "outputs": [],
   "source": [
    "import numpy as np\n",
    "import cv2"
   ]
  },
  {
   "cell_type": "code",
   "execution_count": 2,
   "metadata": {},
   "outputs": [],
   "source": [
    "from computeH import computeH\n",
    "from utils import to_homogenous_coords"
   ]
  },
  {
   "cell_type": "code",
   "execution_count": 3,
   "metadata": {},
   "outputs": [],
   "source": [
    "%load_ext autoreload\n",
    "%autoreload 2"
   ]
  },
  {
   "cell_type": "code",
   "execution_count": 4,
   "metadata": {},
   "outputs": [],
   "source": [
    "im1 = cv2.imread('crop1.jpg')\n",
    "im2 = cv2.imread('crop2.jpg')\n",
    "\n",
    "h1, w1, _ = im1.shape\n",
    "h2, w2, _ = im2.shape\n",
    "\n",
    "scale = max(h1, w1, h2, w2) / 2\n",
    "t1_scale = max(h1, w1) / 2\n",
    "t2_scale = max(h2, w2) / 2"
   ]
  },
  {
   "cell_type": "code",
   "execution_count": 7,
   "metadata": {},
   "outputs": [],
   "source": [
    "#t1, t2 = get_correspondences(im1, im2)\n",
    "\n",
    "t1 = np.load('cc1.npy').T\n",
    "t2 = np.load('cc2.npy').T\n",
    "\n",
    "# t1 = t1.T\n",
    "# t2 = t2.T"
   ]
  },
  {
   "cell_type": "code",
   "execution_count": 8,
   "metadata": {},
   "outputs": [],
   "source": [
    "# t1_scaled = t1 / np.array([[w1/2], [h1/2]])\n",
    "# t2_scaled = t2 / np.array([[w2/2], [h2/2]])\n",
    "\n",
    "# t1_scaled = t1 / scale\n",
    "# t2_scaled = t2 / scale\n",
    "\n",
    "t1_scaled = t1 / t1_scale\n",
    "t2_scaled = t2 / t2_scale"
   ]
  },
  {
   "cell_type": "code",
   "execution_count": 16,
   "metadata": {},
   "outputs": [],
   "source": [
    "H = computeH(t1_scaled, t2_scaled)"
   ]
  },
  {
   "cell_type": "code",
   "execution_count": 10,
   "metadata": {},
   "outputs": [],
   "source": [
    "t1_hom = to_homogenous_coords(t1_scaled)"
   ]
  },
  {
   "cell_type": "code",
   "execution_count": 11,
   "metadata": {},
   "outputs": [],
   "source": [
    "p_prime = np.matmul(H, t1_hom)"
   ]
  },
  {
   "cell_type": "code",
   "execution_count": 12,
   "metadata": {},
   "outputs": [
    {
     "data": {
      "text/plain": [
       "array([139.01423494, 178.11736161, 216.22879774, 233.73285354,\n",
       "       227.31363183, 240.04683989, 290.85364417, 405.06945867,\n",
       "       384.10577465, 234.87070931, 230.00661652, 111.10793294])"
      ]
     },
     "execution_count": 12,
     "metadata": {},
     "output_type": "execute_result"
    }
   ],
   "source": [
    "((p_prime / p_prime[2]) * t2_scale)[1]"
   ]
  },
  {
   "cell_type": "code",
   "execution_count": 13,
   "metadata": {},
   "outputs": [
    {
     "data": {
      "text/plain": [
       "array([139.21355932, 177.68813559, 216.12542373, 234.43728814,\n",
       "       227.41355932, 239.36949153, 290.8779661 , 405.4       ,\n",
       "       384.        , 234.4       , 230.2       , 111.34915254])"
      ]
     },
     "execution_count": 13,
     "metadata": {},
     "output_type": "execute_result"
    }
   ],
   "source": [
    "t2[1]"
   ]
  },
  {
   "cell_type": "code",
   "execution_count": 14,
   "metadata": {},
   "outputs": [],
   "source": [
    "t2_prime = (p_prime[:2] / p_prime[2]) * t2_scale"
   ]
  },
  {
   "cell_type": "code",
   "execution_count": 15,
   "metadata": {},
   "outputs": [
    {
     "data": {
      "text/plain": [
       "0.6352619713357548"
      ]
     },
     "execution_count": 15,
     "metadata": {},
     "output_type": "execute_result"
    }
   ],
   "source": [
    "np.sqrt(np.mean(np.square(t2_prime - t2)))"
   ]
  },
  {
   "cell_type": "code",
   "execution_count": null,
   "metadata": {},
   "outputs": [],
   "source": []
  },
  {
   "cell_type": "code",
   "execution_count": 25,
   "metadata": {},
   "outputs": [],
   "source": [
    "def warpImage(inputIm, refIm, H):\n",
    "    pass"
   ]
  },
  {
   "cell_type": "code",
   "execution_count": 26,
   "metadata": {},
   "outputs": [
    {
     "data": {
      "text/plain": [
       "array([[[ 23, 148, 132],\n",
       "        [ 40, 165, 149],\n",
       "        [ 58, 183, 164],\n",
       "        ...,\n",
       "        [ 90,  49,  26],\n",
       "        [195, 149, 125],\n",
       "        [105,  56,  30]],\n",
       "\n",
       "       [[ 36, 160, 144],\n",
       "        [ 40, 165, 146],\n",
       "        [ 51, 173, 155],\n",
       "        ...,\n",
       "        [ 64,  24,   0],\n",
       "        [172, 126,  95],\n",
       "        [207, 160, 128]],\n",
       "\n",
       "       [[ 78, 200, 182],\n",
       "        [ 67, 190, 170],\n",
       "        [ 59, 180, 160],\n",
       "        ...,\n",
       "        [133,  94,  56],\n",
       "        [130,  86,  45],\n",
       "        [170, 125,  82]],\n",
       "\n",
       "       ...,\n",
       "\n",
       "       [[121, 192, 226],\n",
       "        [119, 191, 225],\n",
       "        [122, 196, 230],\n",
       "        ...,\n",
       "        [152, 217, 248],\n",
       "        [141, 207, 236],\n",
       "        [123, 189, 218]],\n",
       "\n",
       "       [[123, 194, 228],\n",
       "        [124, 196, 230],\n",
       "        [127, 199, 233],\n",
       "        ...,\n",
       "        [131, 192, 224],\n",
       "        [142, 202, 232],\n",
       "        [142, 202, 232]],\n",
       "\n",
       "       [[117, 188, 222],\n",
       "        [125, 197, 231],\n",
       "        [127, 199, 233],\n",
       "        ...,\n",
       "        [155, 214, 246],\n",
       "        [143, 200, 231],\n",
       "        [126, 183, 214]]], dtype=uint8)"
      ]
     },
     "execution_count": 26,
     "metadata": {},
     "output_type": "execute_result"
    }
   ],
   "source": [
    "im1"
   ]
  },
  {
   "cell_type": "code",
   "execution_count": 27,
   "metadata": {},
   "outputs": [
    {
     "data": {
      "text/plain": [
       "240.0"
      ]
     },
     "execution_count": 27,
     "metadata": {},
     "output_type": "execute_result"
    }
   ],
   "source": [
    "t1_scale"
   ]
  },
  {
   "cell_type": "code",
   "execution_count": 28,
   "metadata": {},
   "outputs": [
    {
     "data": {
      "text/plain": [
       "225.0"
      ]
     },
     "execution_count": 28,
     "metadata": {},
     "output_type": "execute_result"
    }
   ],
   "source": [
    "t2_scale"
   ]
  },
  {
   "cell_type": "code",
   "execution_count": 29,
   "metadata": {},
   "outputs": [],
   "source": [
    "new_im = np.zeros((1000, 1000))"
   ]
  },
  {
   "cell_type": "code",
   "execution_count": 31,
   "metadata": {},
   "outputs": [
    {
     "data": {
      "text/plain": [
       "(450, 317, 3)"
      ]
     },
     "execution_count": 31,
     "metadata": {},
     "output_type": "execute_result"
    }
   ],
   "source": [
    "im2.shape"
   ]
  },
  {
   "cell_type": "code",
   "execution_count": 45,
   "metadata": {},
   "outputs": [
    {
     "data": {
      "text/plain": [
       "(2, 142650)"
      ]
     },
     "execution_count": 45,
     "metadata": {},
     "output_type": "execute_result"
    }
   ],
   "source": [
    "for i in range(points.shape[1]):\n",
    "    "
   ]
  },
  {
   "cell_type": "code",
   "execution_count": 48,
   "metadata": {},
   "outputs": [],
   "source": [
    "H_inv = np.linalg.inv(H)"
   ]
  },
  {
   "cell_type": "code",
   "execution_count": 53,
   "metadata": {},
   "outputs": [],
   "source": [
    "p = np.array([(i, j) for i in range(450) for j in range(317)]).T"
   ]
  },
  {
   "cell_type": "code",
   "execution_count": 54,
   "metadata": {},
   "outputs": [],
   "source": [
    "p_hom = to_homogenous_coords(p)"
   ]
  },
  {
   "cell_type": "code",
   "execution_count": 56,
   "metadata": {},
   "outputs": [],
   "source": [
    "p_prime = np.matmul(H_inv, p_hom)"
   ]
  },
  {
   "cell_type": "code",
   "execution_count": null,
   "metadata": {},
   "outputs": [],
   "source": []
  }
 ],
 "metadata": {
  "kernelspec": {
   "display_name": "Python 3",
   "language": "python",
   "name": "python3"
  },
  "language_info": {
   "codemirror_mode": {
    "name": "ipython",
    "version": 3
   },
   "file_extension": ".py",
   "mimetype": "text/x-python",
   "name": "python",
   "nbconvert_exporter": "python",
   "pygments_lexer": "ipython3",
   "version": "3.6.6"
  }
 },
 "nbformat": 4,
 "nbformat_minor": 2
}
