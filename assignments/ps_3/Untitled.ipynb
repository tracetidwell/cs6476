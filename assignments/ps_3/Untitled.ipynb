{
 "cells": [
  {
   "cell_type": "code",
   "execution_count": 1,
   "metadata": {},
   "outputs": [],
   "source": [
    "import numpy as np\n",
    "import cv2"
   ]
  },
  {
   "cell_type": "code",
   "execution_count": 2,
   "metadata": {},
   "outputs": [],
   "source": [
    "from computeH import computeH\n",
    "from utils import to_homogenous_coords"
   ]
  },
  {
   "cell_type": "code",
   "execution_count": 3,
   "metadata": {},
   "outputs": [],
   "source": [
    "%load_ext autoreload\n",
    "%autoreload 2"
   ]
  },
  {
   "cell_type": "code",
   "execution_count": 38,
   "metadata": {},
   "outputs": [],
   "source": [
    "im1 = cv2.imread('crop1.jpg')\n",
    "im2 = cv2.imread('crop2.jpg')\n",
    "\n",
    "h1, w1, _ = im1.shape\n",
    "h2, w2, _ = im2.shape\n",
    "\n",
    "scale = max(h1, w1, h2, w2) / 2\n",
    "t1_scale = max(h1, w1) / 2\n",
    "t2_scale = max(h2, w2) / 2"
   ]
  },
  {
   "cell_type": "code",
   "execution_count": 39,
   "metadata": {},
   "outputs": [],
   "source": [
    "#t1, t2 = get_correspondences(im1, im2)\n",
    "\n",
    "t1 = np.load('cc1.npy')\n",
    "t2 = np.load('cc2.npy')\n",
    "\n",
    "t1 = t1.T\n",
    "t2 = t2.T"
   ]
  },
  {
   "cell_type": "code",
   "execution_count": 56,
   "metadata": {},
   "outputs": [],
   "source": [
    "# t1_scaled = t1 / np.array([[w1/2], [h1/2]])\n",
    "# t2_scaled = t2 / np.array([[w2/2], [h2/2]])\n",
    "\n",
    "# t1_scaled = t1 / scale\n",
    "# t2_scaled = t2 / scale\n",
    "\n",
    "t1_scaled = t1 / t1_scale\n",
    "t2_scaled = t2 / t2_scale"
   ]
  },
  {
   "cell_type": "code",
   "execution_count": 57,
   "metadata": {},
   "outputs": [],
   "source": [
    "H = computeH(t1_scaled, t2_scaled)"
   ]
  },
  {
   "cell_type": "code",
   "execution_count": 58,
   "metadata": {},
   "outputs": [],
   "source": [
    "t1_hom = to_homogenous_coords(t1_scaled)"
   ]
  },
  {
   "cell_type": "code",
   "execution_count": 59,
   "metadata": {},
   "outputs": [],
   "source": [
    "p_prime = np.matmul(H, t1_hom)"
   ]
  },
  {
   "cell_type": "code",
   "execution_count": 60,
   "metadata": {},
   "outputs": [
    {
     "data": {
      "text/plain": [
       "array([139.01423494, 178.11736161, 216.22879774, 233.73285354,\n",
       "       227.31363183, 240.04683989, 290.85364417, 405.06945867,\n",
       "       384.10577465, 234.87070931, 230.00661652, 111.10793294])"
      ]
     },
     "execution_count": 60,
     "metadata": {},
     "output_type": "execute_result"
    }
   ],
   "source": [
    "((p_prime / p_prime[2]) * t2_scale)[1]"
   ]
  },
  {
   "cell_type": "code",
   "execution_count": 61,
   "metadata": {},
   "outputs": [
    {
     "data": {
      "text/plain": [
       "array([139.21355932, 177.68813559, 216.12542373, 234.43728814,\n",
       "       227.41355932, 239.36949153, 290.8779661 , 405.4       ,\n",
       "       384.        , 234.4       , 230.2       , 111.34915254])"
      ]
     },
     "execution_count": 61,
     "metadata": {},
     "output_type": "execute_result"
    }
   ],
   "source": [
    "t2[1]"
   ]
  },
  {
   "cell_type": "code",
   "execution_count": 62,
   "metadata": {},
   "outputs": [],
   "source": [
    "t2_prime = (p_prime[:2] / p_prime[2]) * t2_scale"
   ]
  },
  {
   "cell_type": "code",
   "execution_count": 63,
   "metadata": {},
   "outputs": [
    {
     "data": {
      "text/plain": [
       "0.6352619713357522"
      ]
     },
     "execution_count": 63,
     "metadata": {},
     "output_type": "execute_result"
    }
   ],
   "source": [
    "np.sqrt(np.mean(np.square(t2_prime - t2)))"
   ]
  },
  {
   "cell_type": "code",
   "execution_count": null,
   "metadata": {},
   "outputs": [],
   "source": []
  },
  {
   "cell_type": "code",
   "execution_count": null,
   "metadata": {},
   "outputs": [],
   "source": []
  },
  {
   "cell_type": "code",
   "execution_count": null,
   "metadata": {},
   "outputs": [],
   "source": []
  },
  {
   "cell_type": "code",
   "execution_count": 79,
   "metadata": {},
   "outputs": [
    {
     "data": {
      "text/plain": [
       "array([[0.46186321, 0.42194501, 0.40087707, 0.41362872, 0.35153374,\n",
       "        0.37925471, 0.32048625, 0.36650307, 0.41972733, 0.32042718,\n",
       "        0.31710066, 0.30933879],\n",
       "       [0.30936347, 0.39486252, 0.48027872, 0.52097175, 0.50536347,\n",
       "        0.5319322 , 0.64639548, 0.90088889, 0.85333333, 0.52088889,\n",
       "        0.51155556, 0.24744256]])"
      ]
     },
     "execution_count": 79,
     "metadata": {},
     "output_type": "execute_result"
    }
   ],
   "source": [
    "t2_scaled"
   ]
  },
  {
   "cell_type": "code",
   "execution_count": 78,
   "metadata": {},
   "outputs": [
    {
     "data": {
      "text/plain": [
       "array([[0.28933623, 0.3797759 , 0.47364093, 0.53393405, 0.46792348,\n",
       "        0.52509799, 0.62319785, 0.94282123, 0.92462935, 0.46643234,\n",
       "        0.44979976, 0.06295586],\n",
       "       [0.3070904 , 0.35603814, 0.39922316, 0.41176554, 0.42326271,\n",
       "        0.4274435 , 0.48937853, 0.56583333, 0.535     , 0.43892655,\n",
       "        0.43526836, 0.31648305]])"
      ]
     },
     "execution_count": 78,
     "metadata": {},
     "output_type": "execute_result"
    }
   ],
   "source": [
    "t1_scaled"
   ]
  },
  {
   "cell_type": "code",
   "execution_count": null,
   "metadata": {},
   "outputs": [],
   "source": []
  },
  {
   "cell_type": "code",
   "execution_count": 27,
   "metadata": {},
   "outputs": [
    {
     "data": {
      "text/plain": [
       "array([[-5.69001535e-01, -8.22272338e-01, -2.37596945e-03],\n",
       "       [ 4.94938711e-03, -6.80155845e-03,  4.23016998e-03],\n",
       "       [-3.34028351e-03, -9.99176409e-07,  3.07071947e-05]])"
      ]
     },
     "execution_count": 27,
     "metadata": {},
     "output_type": "execute_result"
    }
   ],
   "source": [
    "H[1][np.argmin(H[0])].reshape(3, 3)"
   ]
  },
  {
   "cell_type": "code",
   "execution_count": 24,
   "metadata": {},
   "outputs": [
    {
     "data": {
      "text/plain": [
       "(array([1.68890288e+11, 1.76125070e+09, 1.35054210e+06, 4.81905344e+04,\n",
       "        9.69108160e+03, 6.55461979e+03, 2.44825535e+03, 5.80560487e-05,\n",
       "        8.10315298e-03]),\n",
       " array([[ 1.09175241e-03,  3.03671955e-03, -6.86009897e-01,\n",
       "          6.32950468e-01,  7.08007891e-02,  2.86018469e-03,\n",
       "          3.51754015e-01, -1.16369524e-03, -7.34521204e-04],\n",
       "        [ 8.22300907e-04,  4.88281145e-03, -5.12702730e-01,\n",
       "         -1.52849538e-01, -4.75219845e-01, -3.08386194e-01,\n",
       "         -6.26726926e-01,  4.24326584e-03,  2.79624844e-03],\n",
       "        [ 3.81451986e-06,  3.00693442e-05, -2.34410566e-03,\n",
       "         -2.76404403e-03, -3.78070933e-03,  1.09339052e-03,\n",
       "         -2.41965493e-03, -9.89641571e-01, -1.43440134e-01],\n",
       "        [ 1.94514795e-03,  1.02939155e-03,  4.04184555e-01,\n",
       "          3.43839866e-01, -6.27076209e-01, -4.85139114e-01,\n",
       "          2.99695680e-01, -5.98605076e-04, -1.32606341e-03],\n",
       "        [ 1.38597878e-03,  4.06132686e-03,  3.21081669e-01,\n",
       "          6.76028054e-01,  1.68569417e-01,  1.42411496e-01,\n",
       "         -6.25381011e-01, -2.80365923e-03,  8.26219166e-03],\n",
       "        [ 6.09385390e-06,  2.74668965e-05,  1.52105040e-03,\n",
       "          4.75033318e-03, -9.54840956e-05,  2.85156699e-03,\n",
       "         -7.17754019e-03,  1.43440681e-01, -9.89616209e-01],\n",
       "        [-8.22328177e-01,  5.69002920e-01,  1.69635243e-03,\n",
       "         -7.04431258e-04,  1.36287504e-03, -1.72921390e-03,\n",
       "          1.95565473e-03,  1.49269766e-06, -9.12700104e-06],\n",
       "        [-5.69001535e-01, -8.22272338e-01, -2.37596945e-03,\n",
       "          4.94938711e-03, -6.80155845e-03,  4.23016998e-03,\n",
       "         -3.34028351e-03, -9.99176409e-07,  3.07071947e-05],\n",
       "        [-2.45950251e-03, -7.29799377e-03,  7.16992576e-03,\n",
       "         -2.67533608e-02,  5.89449493e-01, -8.05741006e-01,\n",
       "         -4.99120104e-02, -2.59860222e-03, -2.51087668e-03]]))"
      ]
     },
     "execution_count": 24,
     "metadata": {},
     "output_type": "execute_result"
    }
   ],
   "source": [
    "H"
   ]
  },
  {
   "cell_type": "code",
   "execution_count": 17,
   "metadata": {},
   "outputs": [
    {
     "data": {
      "text/plain": [
       "7"
      ]
     },
     "execution_count": 17,
     "metadata": {},
     "output_type": "execute_result"
    }
   ],
   "source": [
    "np.argmin(H[0])"
   ]
  },
  {
   "cell_type": "code",
   "execution_count": 18,
   "metadata": {},
   "outputs": [
    {
     "data": {
      "text/plain": [
       "array([-0.56201104, -0.00456939, -0.03986285, -0.20016311,  0.00822838,\n",
       "        0.44956278,  0.42936653, -0.01919398,  0.50553928])"
      ]
     },
     "execution_count": 18,
     "metadata": {},
     "output_type": "execute_result"
    }
   ],
   "source": [
    "H[1][7]"
   ]
  },
  {
   "cell_type": "code",
   "execution_count": 11,
   "metadata": {},
   "outputs": [
    {
     "data": {
      "text/plain": [
       "array([[-0.36930601, -0.47163529, -0.5777355 , -0.64567876, -0.57163953,\n",
       "        -0.63596243, -0.74708052, -1.10739559, -1.08652352, -0.57017885,\n",
       "        -0.55143316, -0.11497864],\n",
       "       [ 0.34133824,  0.30634494,  0.26983768,  0.24601134,  0.2727218 ,\n",
       "         0.24993688,  0.2121986 ,  0.08613819,  0.09265737,  0.27370662,\n",
       "         0.28027449,  0.43219682],\n",
       "       [ 0.73626358,  0.81109977,  0.88921031,  0.94026152,  0.88291196,\n",
       "         0.9317681 ,  1.01243218,  1.28248713,  1.26864617,  0.88072669,\n",
       "         0.86665504,  0.54132073]])"
      ]
     },
     "execution_count": 11,
     "metadata": {},
     "output_type": "execute_result"
    }
   ],
   "source": [
    "p_prime"
   ]
  },
  {
   "cell_type": "code",
   "execution_count": 77,
   "metadata": {},
   "outputs": [
    {
     "data": {
      "text/plain": [
       "array([[ 1.7709983 ,  0.50678909, -0.47664177, -1.0176289 , -0.42353794,\n",
       "        -0.9222202 , -1.60678958, -3.47713375, -3.51307789, -0.4109301 ,\n",
       "        -0.26627269,  4.67510481],\n",
       "       [14.95548922, 15.28879206, 15.63545395, 15.99674879, 15.32136484,\n",
       "        15.74308255, 15.83111725, 17.08781679, 17.31049341, 15.15107425,\n",
       "        15.05206551, 12.15276685]])"
      ]
     },
     "execution_count": 77,
     "metadata": {},
     "output_type": "execute_result"
    }
   ],
   "source": [
    "(p_prime / p_prime[2])[:2]"
   ]
  },
  {
   "cell_type": "code",
   "execution_count": 78,
   "metadata": {},
   "outputs": [
    {
     "data": {
      "text/plain": [
       "array([[1.31128357, 1.19795114, 1.1381368 , 1.17434022, 0.99804533,\n",
       "        1.0767484 , 0.90989788, 1.04054499, 1.19165489, 0.90973015,\n",
       "        0.90028578, 0.87824892],\n",
       "       [0.61872693, 0.78972505, 0.96055744, 1.0419435 , 1.01072693,\n",
       "        1.06386441, 1.29279096, 1.80177778, 1.70666667, 1.04177778,\n",
       "        1.02311111, 0.49488512]])"
      ]
     },
     "execution_count": 78,
     "metadata": {},
     "output_type": "execute_result"
    }
   ],
   "source": [
    "t2_scaled"
   ]
  },
  {
   "cell_type": "code",
   "execution_count": 18,
   "metadata": {},
   "outputs": [],
   "source": [
    "b = np.array([[0]*8 + [1]]).reshape(-1, 1)"
   ]
  },
  {
   "cell_type": "code",
   "execution_count": 21,
   "metadata": {},
   "outputs": [],
   "source": [
    "L = computeH(t1_scaled, t2_scaled)"
   ]
  },
  {
   "cell_type": "code",
   "execution_count": 22,
   "metadata": {},
   "outputs": [
    {
     "ename": "LinAlgError",
     "evalue": "Incompatible dimensions",
     "output_type": "error",
     "traceback": [
      "\u001b[0;31m---------------------------------------------------------------------------\u001b[0m",
      "\u001b[0;31mLinAlgError\u001b[0m                               Traceback (most recent call last)",
      "\u001b[0;32m<ipython-input-22-901f802b6cf4>\u001b[0m in \u001b[0;36m<module>\u001b[0;34m\u001b[0m\n\u001b[0;32m----> 1\u001b[0;31m \u001b[0mnew_h\u001b[0m \u001b[0;34m=\u001b[0m \u001b[0mnp\u001b[0m\u001b[0;34m.\u001b[0m\u001b[0mlinalg\u001b[0m\u001b[0;34m.\u001b[0m\u001b[0mlstsq\u001b[0m\u001b[0;34m(\u001b[0m\u001b[0mL\u001b[0m\u001b[0;34m,\u001b[0m \u001b[0mb\u001b[0m\u001b[0;34m)\u001b[0m\u001b[0;34m\u001b[0m\u001b[0;34m\u001b[0m\u001b[0m\n\u001b[0m",
      "\u001b[0;32m~/.conda/envs/cv/lib/python3.7/site-packages/numpy/linalg/linalg.py\u001b[0m in \u001b[0;36mlstsq\u001b[0;34m(a, b, rcond)\u001b[0m\n\u001b[1;32m   2203\u001b[0m     \u001b[0mm2\u001b[0m\u001b[0;34m,\u001b[0m \u001b[0mn_rhs\u001b[0m \u001b[0;34m=\u001b[0m \u001b[0mb\u001b[0m\u001b[0;34m.\u001b[0m\u001b[0mshape\u001b[0m\u001b[0;34m[\u001b[0m\u001b[0;34m-\u001b[0m\u001b[0;36m2\u001b[0m\u001b[0;34m:\u001b[0m\u001b[0;34m]\u001b[0m\u001b[0;34m\u001b[0m\u001b[0;34m\u001b[0m\u001b[0m\n\u001b[1;32m   2204\u001b[0m     \u001b[0;32mif\u001b[0m \u001b[0mm\u001b[0m \u001b[0;34m!=\u001b[0m \u001b[0mm2\u001b[0m\u001b[0;34m:\u001b[0m\u001b[0;34m\u001b[0m\u001b[0;34m\u001b[0m\u001b[0m\n\u001b[0;32m-> 2205\u001b[0;31m         \u001b[0;32mraise\u001b[0m \u001b[0mLinAlgError\u001b[0m\u001b[0;34m(\u001b[0m\u001b[0;34m'Incompatible dimensions'\u001b[0m\u001b[0;34m)\u001b[0m\u001b[0;34m\u001b[0m\u001b[0;34m\u001b[0m\u001b[0m\n\u001b[0m\u001b[1;32m   2206\u001b[0m \u001b[0;34m\u001b[0m\u001b[0m\n\u001b[1;32m   2207\u001b[0m     \u001b[0mt\u001b[0m\u001b[0;34m,\u001b[0m \u001b[0mresult_t\u001b[0m \u001b[0;34m=\u001b[0m \u001b[0m_commonType\u001b[0m\u001b[0;34m(\u001b[0m\u001b[0ma\u001b[0m\u001b[0;34m,\u001b[0m \u001b[0mb\u001b[0m\u001b[0;34m)\u001b[0m\u001b[0;34m\u001b[0m\u001b[0;34m\u001b[0m\u001b[0m\n",
      "\u001b[0;31mLinAlgError\u001b[0m: Incompatible dimensions"
     ]
    }
   ],
   "source": [
    "new_h = np.linalg.lstsq(L, b)"
   ]
  },
  {
   "cell_type": "code",
   "execution_count": 25,
   "metadata": {},
   "outputs": [
    {
     "ename": "LinAlgError",
     "evalue": "Last 2 dimensions of the array must be square",
     "output_type": "error",
     "traceback": [
      "\u001b[0;31m---------------------------------------------------------------------------\u001b[0m",
      "\u001b[0;31mLinAlgError\u001b[0m                               Traceback (most recent call last)",
      "\u001b[0;32m<ipython-input-25-e1dad8a73173>\u001b[0m in \u001b[0;36m<module>\u001b[0;34m\u001b[0m\n\u001b[0;32m----> 1\u001b[0;31m \u001b[0mnp\u001b[0m\u001b[0;34m.\u001b[0m\u001b[0mlinalg\u001b[0m\u001b[0;34m.\u001b[0m\u001b[0msolve\u001b[0m\u001b[0;34m(\u001b[0m\u001b[0mL\u001b[0m\u001b[0;34m,\u001b[0m \u001b[0mb\u001b[0m\u001b[0;34m)\u001b[0m\u001b[0;34m\u001b[0m\u001b[0;34m\u001b[0m\u001b[0m\n\u001b[0m",
      "\u001b[0;32m~/.conda/envs/cv/lib/python3.7/site-packages/numpy/linalg/linalg.py\u001b[0m in \u001b[0;36msolve\u001b[0;34m(a, b)\u001b[0m\n\u001b[1;32m    388\u001b[0m     \u001b[0ma\u001b[0m\u001b[0;34m,\u001b[0m \u001b[0m_\u001b[0m \u001b[0;34m=\u001b[0m \u001b[0m_makearray\u001b[0m\u001b[0;34m(\u001b[0m\u001b[0ma\u001b[0m\u001b[0;34m)\u001b[0m\u001b[0;34m\u001b[0m\u001b[0;34m\u001b[0m\u001b[0m\n\u001b[1;32m    389\u001b[0m     \u001b[0m_assertRankAtLeast2\u001b[0m\u001b[0;34m(\u001b[0m\u001b[0ma\u001b[0m\u001b[0;34m)\u001b[0m\u001b[0;34m\u001b[0m\u001b[0;34m\u001b[0m\u001b[0m\n\u001b[0;32m--> 390\u001b[0;31m     \u001b[0m_assertNdSquareness\u001b[0m\u001b[0;34m(\u001b[0m\u001b[0ma\u001b[0m\u001b[0;34m)\u001b[0m\u001b[0;34m\u001b[0m\u001b[0;34m\u001b[0m\u001b[0m\n\u001b[0m\u001b[1;32m    391\u001b[0m     \u001b[0mb\u001b[0m\u001b[0;34m,\u001b[0m \u001b[0mwrap\u001b[0m \u001b[0;34m=\u001b[0m \u001b[0m_makearray\u001b[0m\u001b[0;34m(\u001b[0m\u001b[0mb\u001b[0m\u001b[0;34m)\u001b[0m\u001b[0;34m\u001b[0m\u001b[0;34m\u001b[0m\u001b[0m\n\u001b[1;32m    392\u001b[0m     \u001b[0mt\u001b[0m\u001b[0;34m,\u001b[0m \u001b[0mresult_t\u001b[0m \u001b[0;34m=\u001b[0m \u001b[0m_commonType\u001b[0m\u001b[0;34m(\u001b[0m\u001b[0ma\u001b[0m\u001b[0;34m,\u001b[0m \u001b[0mb\u001b[0m\u001b[0;34m)\u001b[0m\u001b[0;34m\u001b[0m\u001b[0;34m\u001b[0m\u001b[0m\n",
      "\u001b[0;32m~/.conda/envs/cv/lib/python3.7/site-packages/numpy/linalg/linalg.py\u001b[0m in \u001b[0;36m_assertNdSquareness\u001b[0;34m(*arrays)\u001b[0m\n\u001b[1;32m    211\u001b[0m         \u001b[0mm\u001b[0m\u001b[0;34m,\u001b[0m \u001b[0mn\u001b[0m \u001b[0;34m=\u001b[0m \u001b[0ma\u001b[0m\u001b[0;34m.\u001b[0m\u001b[0mshape\u001b[0m\u001b[0;34m[\u001b[0m\u001b[0;34m-\u001b[0m\u001b[0;36m2\u001b[0m\u001b[0;34m:\u001b[0m\u001b[0;34m]\u001b[0m\u001b[0;34m\u001b[0m\u001b[0;34m\u001b[0m\u001b[0m\n\u001b[1;32m    212\u001b[0m         \u001b[0;32mif\u001b[0m \u001b[0mm\u001b[0m \u001b[0;34m!=\u001b[0m \u001b[0mn\u001b[0m\u001b[0;34m:\u001b[0m\u001b[0;34m\u001b[0m\u001b[0;34m\u001b[0m\u001b[0m\n\u001b[0;32m--> 213\u001b[0;31m             \u001b[0;32mraise\u001b[0m \u001b[0mLinAlgError\u001b[0m\u001b[0;34m(\u001b[0m\u001b[0;34m'Last 2 dimensions of the array must be square'\u001b[0m\u001b[0;34m)\u001b[0m\u001b[0;34m\u001b[0m\u001b[0;34m\u001b[0m\u001b[0m\n\u001b[0m\u001b[1;32m    214\u001b[0m \u001b[0;34m\u001b[0m\u001b[0m\n\u001b[1;32m    215\u001b[0m \u001b[0;32mdef\u001b[0m \u001b[0m_assertFinite\u001b[0m\u001b[0;34m(\u001b[0m\u001b[0;34m*\u001b[0m\u001b[0marrays\u001b[0m\u001b[0;34m)\u001b[0m\u001b[0;34m:\u001b[0m\u001b[0;34m\u001b[0m\u001b[0;34m\u001b[0m\u001b[0m\n",
      "\u001b[0;31mLinAlgError\u001b[0m: Last 2 dimensions of the array must be square"
     ]
    }
   ],
   "source": [
    "np.linalg.solve(L, b)"
   ]
  },
  {
   "cell_type": "code",
   "execution_count": 24,
   "metadata": {},
   "outputs": [
    {
     "data": {
      "text/plain": [
       "(9, 1)"
      ]
     },
     "execution_count": 24,
     "metadata": {},
     "output_type": "execute_result"
    }
   ],
   "source": [
    "b.shape"
   ]
  },
  {
   "cell_type": "code",
   "execution_count": 62,
   "metadata": {},
   "outputs": [
    {
     "data": {
      "text/plain": [
       "array([[0.],\n",
       "       [0.],\n",
       "       [0.],\n",
       "       [0.],\n",
       "       [0.],\n",
       "       [0.],\n",
       "       [0.],\n",
       "       [0.],\n",
       "       [0.],\n",
       "       [0.],\n",
       "       [0.],\n",
       "       [0.],\n",
       "       [0.],\n",
       "       [0.],\n",
       "       [0.],\n",
       "       [0.],\n",
       "       [0.],\n",
       "       [0.],\n",
       "       [0.],\n",
       "       [0.],\n",
       "       [0.],\n",
       "       [0.],\n",
       "       [0.],\n",
       "       [0.]])"
      ]
     },
     "execution_count": 62,
     "metadata": {},
     "output_type": "execute_result"
    }
   ],
   "source": [
    "np.zeros((L.shape[0], 1))"
   ]
  },
  {
   "cell_type": "code",
   "execution_count": null,
   "metadata": {},
   "outputs": [],
   "source": []
  },
  {
   "cell_type": "code",
   "execution_count": 29,
   "metadata": {},
   "outputs": [
    {
     "data": {
      "text/plain": [
       "array([[0.57867246, 0.75955181, 0.94728187, 1.0678681 , 0.93584697,\n",
       "        1.05019598, 1.24639571, 1.88564247, 1.84925869, 0.93286469,\n",
       "        0.89959952, 0.12591172],\n",
       "       [0.92415918, 1.07146273, 1.20142394, 1.23916901, 1.27376866,\n",
       "        1.28635035, 1.4727379 , 1.70282132, 1.61003135, 1.3209075 ,\n",
       "        1.30989852, 0.95242548]])"
      ]
     },
     "execution_count": 29,
     "metadata": {},
     "output_type": "execute_result"
    }
   ],
   "source": [
    "t1_scaled"
   ]
  },
  {
   "cell_type": "code",
   "execution_count": 32,
   "metadata": {},
   "outputs": [
    {
     "data": {
      "text/plain": [
       "array([[-0.36930601, -0.47163529, -0.5777355 , -0.64567876, -0.57163953,\n",
       "        -0.63596243, -0.74708052, -1.10739559, -1.08652352, -0.57017885,\n",
       "        -0.55143316, -0.11497864],\n",
       "       [ 0.34133824,  0.30634494,  0.26983768,  0.24601134,  0.2727218 ,\n",
       "         0.24993688,  0.2121986 ,  0.08613819,  0.09265737,  0.27370662,\n",
       "         0.28027449,  0.43219682],\n",
       "       [ 0.73626358,  0.81109977,  0.88921031,  0.94026152,  0.88291196,\n",
       "         0.9317681 ,  1.01243218,  1.28248713,  1.26864617,  0.88072669,\n",
       "         0.86665504,  0.54132073]])"
      ]
     },
     "execution_count": 32,
     "metadata": {},
     "output_type": "execute_result"
    }
   ],
   "source": [
    "p_prime"
   ]
  },
  {
   "cell_type": "code",
   "execution_count": 17,
   "metadata": {},
   "outputs": [
    {
     "data": {
      "text/plain": [
       "(319, 480)"
      ]
     },
     "execution_count": 17,
     "metadata": {},
     "output_type": "execute_result"
    }
   ],
   "source": [
    "h1, w1"
   ]
  },
  {
   "cell_type": "code",
   "execution_count": 18,
   "metadata": {},
   "outputs": [
    {
     "ename": "NameError",
     "evalue": "name 'show' is not defined",
     "output_type": "error",
     "traceback": [
      "\u001b[0;31m---------------------------------------------------------------------------\u001b[0m",
      "\u001b[0;31mNameError\u001b[0m                                 Traceback (most recent call last)",
      "\u001b[0;32m<ipython-input-18-b74640736238>\u001b[0m in \u001b[0;36m<module>\u001b[0;34m\u001b[0m\n\u001b[0;32m----> 1\u001b[0;31m \u001b[0mshow\u001b[0m\u001b[0;34m(\u001b[0m\u001b[0mim1\u001b[0m\u001b[0;34m)\u001b[0m\u001b[0;34m\u001b[0m\u001b[0;34m\u001b[0m\u001b[0m\n\u001b[0m",
      "\u001b[0;31mNameError\u001b[0m: name 'show' is not defined"
     ]
    }
   ],
   "source": [
    "show(im1)"
   ]
  },
  {
   "cell_type": "code",
   "execution_count": 96,
   "metadata": {},
   "outputs": [],
   "source": []
  },
  {
   "cell_type": "code",
   "execution_count": 40,
   "metadata": {},
   "outputs": [
    {
     "data": {
      "text/plain": [
       "array([[0.57867246, 0.75955181, 0.94728187, 1.0678681 , 0.93584697,\n",
       "        1.05019598, 1.24639571, 1.88564247, 1.84925869, 0.93286469,\n",
       "        0.89959952, 0.12591172],\n",
       "       [0.92415918, 1.07146273, 1.20142394, 1.23916901, 1.27376866,\n",
       "        1.28635035, 1.4727379 , 1.70282132, 1.61003135, 1.3209075 ,\n",
       "        1.30989852, 0.95242548]])"
      ]
     },
     "execution_count": 40,
     "metadata": {},
     "output_type": "execute_result"
    }
   ],
   "source": [
    "t1_scaled"
   ]
  },
  {
   "cell_type": "code",
   "execution_count": 41,
   "metadata": {},
   "outputs": [
    {
     "data": {
      "text/plain": [
       "array([[0.57867246, 0.75955181, 0.94728187, 1.0678681 , 0.93584697,\n",
       "        1.05019598, 1.24639571, 1.88564247, 1.84925869, 0.93286469,\n",
       "        0.89959952, 0.12591172],\n",
       "       [0.92415918, 1.07146273, 1.20142394, 1.23916901, 1.27376866,\n",
       "        1.28635035, 1.4727379 , 1.70282132, 1.61003135, 1.3209075 ,\n",
       "        1.30989852, 0.95242548],\n",
       "       [1.        , 1.        , 1.        , 1.        , 1.        ,\n",
       "        1.        , 1.        , 1.        , 1.        , 1.        ,\n",
       "        1.        , 1.        ]])"
      ]
     },
     "execution_count": 41,
     "metadata": {},
     "output_type": "execute_result"
    }
   ],
   "source": [
    "t1_hom"
   ]
  },
  {
   "cell_type": "code",
   "execution_count": 42,
   "metadata": {},
   "outputs": [
    {
     "data": {
      "text/plain": [
       "array([[138.88139059, 182.29243354, 227.34764826, 256.28834356,\n",
       "        224.60327198, 252.04703476, 299.13496933, 452.55419223,\n",
       "        443.82208589, 223.88752556, 215.90388548,  30.21881391],\n",
       "       [147.40338983, 170.89830508, 191.62711864, 197.64745763,\n",
       "        203.16610169, 205.17288136, 234.90169492, 271.6       ,\n",
       "        256.8       , 210.68474576, 208.92881356, 151.91186441]])"
      ]
     },
     "execution_count": 42,
     "metadata": {},
     "output_type": "execute_result"
    }
   ],
   "source": [
    "t1"
   ]
  },
  {
   "cell_type": "code",
   "execution_count": 49,
   "metadata": {},
   "outputs": [],
   "source": []
  },
  {
   "cell_type": "code",
   "execution_count": 52,
   "metadata": {},
   "outputs": [],
   "source": []
  },
  {
   "cell_type": "code",
   "execution_count": 53,
   "metadata": {},
   "outputs": [],
   "source": []
  },
  {
   "cell_type": "code",
   "execution_count": 43,
   "metadata": {},
   "outputs": [
    {
     "data": {
      "text/plain": [
       "array([[0.57867246, 0.61418079, 0.75955181, 0.71207627, 0.94728187,\n",
       "        0.79844633, 1.0678681 , 0.82353107, 0.93584697, 0.84652542,\n",
       "        1.05019598, 0.85488701],\n",
       "       [1.87545435, 1.4727379 , 2.83733036, 1.70282132, 2.78258361,\n",
       "        1.61003135, 1.40368355, 1.3209075 , 1.35362938, 1.30989852,\n",
       "        0.18945965, 0.95242548]])"
      ]
     },
     "execution_count": 43,
     "metadata": {},
     "output_type": "execute_result"
    }
   ],
   "source": [
    "t1_scaled"
   ]
  },
  {
   "cell_type": "code",
   "execution_count": 44,
   "metadata": {},
   "outputs": [
    {
     "data": {
      "text/plain": [
       "array([[0.86599352, 0.5800565 , 0.7911469 , 0.74036723, 0.75164451,\n",
       "        0.9005226 , 0.77555385, 0.97682203, 0.65912577, 0.9475565 ,\n",
       "        0.71110259, 0.99737288],\n",
       "       [0.90419319, 1.82368631, 1.03402119, 2.54169279, 1.1841837 ,\n",
       "        2.40752351, 0.90402651, 1.46959248, 0.89464136, 1.44326019,\n",
       "        0.87274266, 0.69811381]])"
      ]
     },
     "execution_count": 44,
     "metadata": {},
     "output_type": "execute_result"
    }
   ],
   "source": [
    "t2_scaled"
   ]
  },
  {
   "cell_type": "code",
   "execution_count": 47,
   "metadata": {},
   "outputs": [
    {
     "data": {
      "text/plain": [
       "array([[207.83844581, 139.21355932, 189.87525562, 177.68813559,\n",
       "        180.39468303, 216.12542373, 186.13292434, 234.43728814,\n",
       "        158.19018405, 227.41355932, 170.66462168, 239.36949153],\n",
       "       [144.21881391, 290.8779661 , 164.92638037, 405.4       ,\n",
       "        188.87730061, 384.        , 144.19222904, 234.4       ,\n",
       "        142.69529652, 230.2       , 139.20245399, 111.34915254]])"
      ]
     },
     "execution_count": 47,
     "metadata": {},
     "output_type": "execute_result"
    }
   ],
   "source": [
    "t2"
   ]
  },
  {
   "cell_type": "code",
   "execution_count": 49,
   "metadata": {},
   "outputs": [
    {
     "data": {
      "text/plain": [
       "(319, 480)"
      ]
     },
     "execution_count": 49,
     "metadata": {},
     "output_type": "execute_result"
    }
   ],
   "source": [
    "h, w"
   ]
  },
  {
   "cell_type": "code",
   "execution_count": 19,
   "metadata": {},
   "outputs": [],
   "source": [
    "t1 = np.load('cc1.npy')"
   ]
  },
  {
   "cell_type": "code",
   "execution_count": 21,
   "metadata": {},
   "outputs": [
    {
     "data": {
      "text/plain": [
       "array([[138.88139059, 182.29243354, 227.34764826, 256.28834356,\n",
       "        224.60327198, 252.04703476, 299.13496933, 452.55419223,\n",
       "        443.82208589, 223.88752556, 215.90388548,  30.21881391],\n",
       "       [147.40338983, 170.89830508, 191.62711864, 197.64745763,\n",
       "        203.16610169, 205.17288136, 234.90169492, 271.6       ,\n",
       "        256.8       , 210.68474576, 208.92881356, 151.91186441]])"
      ]
     },
     "execution_count": 21,
     "metadata": {},
     "output_type": "execute_result"
    }
   ],
   "source": [
    "t1.T"
   ]
  },
  {
   "cell_type": "code",
   "execution_count": 54,
   "metadata": {},
   "outputs": [],
   "source": [
    "h, status = cv2.findHomography(t1_scaled.T, t2_scaled.T, 0)"
   ]
  },
  {
   "cell_type": "code",
   "execution_count": 53,
   "metadata": {},
   "outputs": [],
   "source": [
    "cv2.findHomography??"
   ]
  },
  {
   "cell_type": "code",
   "execution_count": 72,
   "metadata": {},
   "outputs": [
    {
     "data": {
      "text/plain": [
       "array([[ 0.20678362, -0.50058613,  0.73600227],\n",
       "       [ 0.07504831,  0.24049283, -0.08012346],\n",
       "       [-0.04400927,  0.02376217,  0.30424405]])"
      ]
     },
     "execution_count": 72,
     "metadata": {},
     "output_type": "execute_result"
    }
   ],
   "source": [
    "h / np.linalg.norm(h)"
   ]
  },
  {
   "cell_type": "code",
   "execution_count": 46,
   "metadata": {},
   "outputs": [
    {
     "data": {
      "text/plain": [
       "array([[-0.56201104, -0.00456939, -0.03986285],\n",
       "       [-0.20016311,  0.00822838,  0.44956278],\n",
       "       [ 0.42936653, -0.01919398,  0.50553928]])"
      ]
     },
     "execution_count": 46,
     "metadata": {},
     "output_type": "execute_result"
    }
   ],
   "source": [
    "H"
   ]
  },
  {
   "cell_type": "code",
   "execution_count": 71,
   "metadata": {},
   "outputs": [
    {
     "data": {
      "text/plain": [
       "array([8.73585149e-01, 4.51065302e-01, 1.53537338e-01, 8.95844263e-02,\n",
       "       3.11014039e-02, 2.15671092e-02, 1.87111929e-02, 2.70598701e-03,\n",
       "       3.58464417e-04])"
      ]
     },
     "execution_count": 71,
     "metadata": {},
     "output_type": "execute_result"
    }
   ],
   "source": [
    "new_h[3] / np.linalg.norm(new_h[3])"
   ]
  },
  {
   "cell_type": "code",
   "execution_count": null,
   "metadata": {},
   "outputs": [],
   "source": []
  },
  {
   "cell_type": "code",
   "execution_count": null,
   "metadata": {},
   "outputs": [],
   "source": []
  },
  {
   "cell_type": "code",
   "execution_count": 70,
   "metadata": {},
   "outputs": [
    {
     "data": {
      "text/plain": [
       "15.069929163410409"
      ]
     },
     "execution_count": 70,
     "metadata": {},
     "output_type": "execute_result"
    }
   ],
   "source": [
    "np.linalg.norm(new_h[3])"
   ]
  },
  {
   "cell_type": "code",
   "execution_count": 48,
   "metadata": {},
   "outputs": [
    {
     "data": {
      "text/plain": [
       "1.0000000000000189"
      ]
     },
     "execution_count": 48,
     "metadata": {},
     "output_type": "execute_result"
    }
   ],
   "source": [
    "np.linalg.norm(H)"
   ]
  },
  {
   "cell_type": "code",
   "execution_count": 50,
   "metadata": {},
   "outputs": [
    {
     "data": {
      "text/plain": [
       "array([[1.2918609 , 1.17243301, 1.0861954 , 1.10604985, 0.95939156,\n",
       "        1.01640922, 0.8430874 , 0.89899381, 1.0269365 , 0.87980501,\n",
       "        0.87530945, 0.93762811],\n",
       "       [0.60990044, 0.7709558 , 0.91999261, 0.97957377, 0.97435757,\n",
       "        1.01250953, 1.20823834, 1.54779404, 1.46547242, 1.01088331,\n",
       "        0.99397558, 0.5205607 ],\n",
       "       [0.98847333, 0.97381367, 0.95680856, 0.9423136 , 0.96411293,\n",
       "        0.94855486, 0.93473164, 0.86023388, 0.85824973, 0.96822597,\n",
       "        0.97217799, 1.05617338]])"
      ]
     },
     "execution_count": 50,
     "metadata": {},
     "output_type": "execute_result"
    }
   ],
   "source": [
    "np.matmul(h, t1_hom)"
   ]
  },
  {
   "cell_type": "code",
   "execution_count": 51,
   "metadata": {},
   "outputs": [
    {
     "data": {
      "text/plain": [
       "array([[1.31128357, 1.19795114, 1.1381368 , 1.17434022, 0.99804533,\n",
       "        1.0767484 , 0.90989788, 1.04054499, 1.19165489, 0.90973015,\n",
       "        0.90028578, 0.87824892],\n",
       "       [0.61872693, 0.78972505, 0.96055744, 1.0419435 , 1.01072693,\n",
       "        1.06386441, 1.29279096, 1.80177778, 1.70666667, 1.04177778,\n",
       "        1.02311111, 0.49488512]])"
      ]
     },
     "execution_count": 51,
     "metadata": {},
     "output_type": "execute_result"
    }
   ],
   "source": [
    "t2_scaled"
   ]
  },
  {
   "cell_type": "code",
   "execution_count": 79,
   "metadata": {},
   "outputs": [
    {
     "data": {
      "text/plain": [
       "array([[1.07591315, 1.30037017, 1.52298936, 1.64535719, 1.5456322 ,\n",
       "        1.65120096, 1.90667108, 2.56889021, 2.49525154, 1.56428962,\n",
       "        1.53026389, 0.69313804],\n",
       "       [0.1021498 , 0.12293512, 0.14379478, 0.15577136, 0.14502042,\n",
       "        0.15565562, 0.17902897, 0.24345144, 0.23730612, 0.14621933,\n",
       "        0.1428969 , 0.06246861],\n",
       "       [0.01368688, 0.01746995, 0.02133428, 0.02369273, 0.02131608,\n",
       "        0.02348973, 0.02766522, 0.0402489 , 0.03931702, 0.02138783,\n",
       "        0.02073561, 0.00529167]])"
      ]
     },
     "execution_count": 79,
     "metadata": {},
     "output_type": "execute_result"
    }
   ],
   "source": [
    "np.matmul((new_h[3] / np.linalg.norm(new_h[3])).reshape(3, 3), t1_hom)"
   ]
  },
  {
   "cell_type": "code",
   "execution_count": 76,
   "metadata": {},
   "outputs": [
    {
     "data": {
      "text/plain": [
       "(9,)"
      ]
     },
     "execution_count": 76,
     "metadata": {},
     "output_type": "execute_result"
    }
   ],
   "source": [
    "new_h[3].shape"
   ]
  },
  {
   "cell_type": "code",
   "execution_count": 78,
   "metadata": {},
   "outputs": [
    {
     "data": {
      "text/plain": [
       "array([8.73585149e-01, 4.51065302e-01, 1.53537338e-01, 8.95844263e-02,\n",
       "       3.11014039e-02, 2.15671092e-02, 1.87111929e-02, 2.70598701e-03,\n",
       "       3.58464417e-04])"
      ]
     },
     "execution_count": 78,
     "metadata": {},
     "output_type": "execute_result"
    }
   ],
   "source": [
    "(new_h[3] / np.linalg.norm(new_h[3]))"
   ]
  },
  {
   "cell_type": "code",
   "execution_count": null,
   "metadata": {},
   "outputs": [],
   "source": []
  }
 ],
 "metadata": {
  "kernelspec": {
   "display_name": "Python 3",
   "language": "python",
   "name": "python3"
  },
  "language_info": {
   "codemirror_mode": {
    "name": "ipython",
    "version": 3
   },
   "file_extension": ".py",
   "mimetype": "text/x-python",
   "name": "python",
   "nbconvert_exporter": "python",
   "pygments_lexer": "ipython3",
   "version": "3.7.4"
  }
 },
 "nbformat": 4,
 "nbformat_minor": 2
}
